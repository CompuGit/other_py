{
 "cells": [
  {
   "cell_type": "code",
   "execution_count": 2,
   "metadata": {},
   "outputs": [],
   "source": [
    "import json\n",
    "import re\n",
    "import os\n",
    "import gzip"
   ]
  },
  {
   "cell_type": "code",
   "execution_count": 3,
   "metadata": {},
   "outputs": [],
   "source": [
    "def validate_filename(filename):\n",
    "        settings = json.load(open('./settings.json','r'))\n",
    "        basename, ext = os.path.splitext(filename)\n",
    "\n",
    "        f_re = settings[ext]['f_re']\n",
    "\n",
    "        if re.match(f_re,filename):\n",
    "            return True\n",
    "        else:\n",
    "            return False"
   ]
  },
  {
   "cell_type": "code",
   "execution_count": 4,
   "metadata": {},
   "outputs": [],
   "source": [
    "def validate_data(data, ext):\n",
    "    settings = json.load(open('./settings.json','r'))\n",
    "    \n",
    "    d_re = settings[ext]['d_re']\n",
    "\n",
    "    lines = data.splitlines()\n",
    "    \n",
    "    for every_line in lines:\n",
    "        if not re.search(d_re, every_line):\n",
    "            print(every_line)\n",
    "            return False\n",
    "    else:\n",
    "        return True"
   ]
  },
  {
   "cell_type": "code",
   "execution_count": 5,
   "metadata": {},
   "outputs": [
    {
     "name": "stdout",
     "output_type": "stream",
     "text": [
      "True\n"
     ]
    }
   ],
   "source": [
    "filename = 'G20211124.1830-20211124.1845.json'\n",
    "if validate_filename(filename) :\n",
    "    basename, ext = os.path.splitext(filename)\n",
    "    fp = open(filename,'r')\n",
    "    data = fp.read()\n",
    "\n",
    "    print(validate_data(data, ext))"
   ]
  },
  {
   "cell_type": "code",
   "execution_count": 115,
   "metadata": {},
   "outputs": [],
   "source": [
    "data_str = '''[\n",
    "    {\n",
    "        \"deviceName\": \"DN2HLR01-Ericsson\",\n",
    "        \"granularityPeriod\": 900,\n",
    "        \"indicators\": {\n",
    "            \"ATISUCC\": 0,\n",
    "            \"ATISUEO\": 0,\n",
    "            \"ATISUHI\": 0,\n",
    "            \"ATITOT\": 0\n",
    "        },\n",
    "        \"objectName\": \"BC0\",\n",
    "        \"objectType\": \"ATIPROP.-\",\n",
    "        \"timestamp\": 1637779500\n",
    "    },\n",
    "    {\n",
    "        \"deviceName\": \"DN2HLR01-Ericsson\",\n",
    "        \"granularityPeriod\": 900,\n",
    "        \"indicators\": {},\n",
    "        \"objectName\": \"BC0\",\n",
    "        \"objectType\": \"AUCFEDA.SEARCH\",\n",
    "        \"timestamp\": 1637779500\n",
    "    }\n",
    "]'''"
   ]
  },
  {
   "cell_type": "code",
   "execution_count": 116,
   "metadata": {},
   "outputs": [],
   "source": [
    "deviceName_re = r'\\\"deviceName\\\": \\\"(.*?)\\\"'\n",
    "objectName_re = r'\\\"objectName\\\": \\\"(.*?)\\\"'\n",
    "indicators_re = r'\\\"indicators\\\": (\\{[\\s\\\"a-zA-Z0-9:,]*\\})'\n",
    "\n",
    "\n",
    "deviceName_list = re.findall(deviceName_re,data_str)\n",
    "objectName_list = re.findall(objectName_re,data_str)\n",
    "indicators_list = [ re.sub(r'[\\s]*','',matched_str) for matched_str in re.findall(indicators_re,data_str) ]\n",
    "\n",
    "result = []\n",
    "for i in range(len(deviceName_list)):\n",
    "    result.append({\n",
    "            'deviceName' : deviceName_list[i],\n",
    "            'objectName' : objectName_list[i],\n",
    "            'indicators' : eval(indicators_list[i])\n",
    "        })\n",
    "    \n",
    "\n"
   ]
  },
  {
   "cell_type": "code",
   "execution_count": 117,
   "metadata": {},
   "outputs": [
    {
     "data": {
      "text/plain": [
       "[{'deviceName': 'DN2HLR01-Ericsson',\n",
       "  'objectName': 'BC0',\n",
       "  'indicators': {'ATISUCC': 0, 'ATISUEO': 0, 'ATISUHI': 0, 'ATITOT': 0}},\n",
       " {'deviceName': 'DN2HLR01-Ericsson', 'objectName': 'BC0', 'indicators': {}}]"
      ]
     },
     "execution_count": 117,
     "metadata": {},
     "output_type": "execute_result"
    }
   ],
   "source": [
    "result"
   ]
  },
  {
   "cell_type": "code",
   "execution_count": 118,
   "metadata": {},
   "outputs": [
    {
     "name": "stdout",
     "output_type": "stream",
     "text": [
      "['Form 1', 'Form 2']\n"
     ]
    }
   ],
   "source": [
    "line = 'bla bla bla<form>Form 1</form> some text...<form>Form 2</form> more text?'\n",
    "matches = re.findall('<form>(.*?)</form>', line, re.DOTALL)\n",
    "print(matches)"
   ]
  },
  {
   "cell_type": "code",
   "execution_count": null,
   "metadata": {},
   "outputs": [],
   "source": [
    "data_str = '''Timestamp,Device_Name,Object_Type,Object_Name,Indicator_Name,Indicator_Description,Indicator_Value,Indicator_Unit\n",
    "1593606077,\"ABB Device 1\",ip_statistics1,object_name1,rxpackets,\" RX packets\",123063281,Number\n",
    "1593606077,\"ABB Device 1\",ip_statistics1,object_name1,txpackets,\"TX packets\",17480882,Number\n",
    "1593606077,\"ABB Device 1\",ip_statistics1,object_name1,frame,frame,0,Number\n",
    "1593606077,\"ABB Device 1\",ip_statistics1,object_name1,collisions,collisions,0,Number\n",
    "1593606077,\"ABB Device 1\",ip_statistics1,object_name1,txerrors,\"TX errors\",0,Number\n",
    "1593606077,\"ABB Device 1\",ip_statistics1,object_name1,rxerrors,\"RX errors\",0,Number\n",
    "1593606077,\"ABB Device 1\",ip_statistics1,object_name1,dropped,dropped,0,Number'''"
   ]
  }
 ],
 "metadata": {
  "kernelspec": {
   "display_name": "Python 3",
   "language": "python",
   "name": "python3"
  },
  "language_info": {
   "codemirror_mode": {
    "name": "ipython",
    "version": 3
   },
   "file_extension": ".py",
   "mimetype": "text/x-python",
   "name": "python",
   "nbconvert_exporter": "python",
   "pygments_lexer": "ipython3",
   "version": "3.11.1"
  },
  "orig_nbformat": 4,
  "vscode": {
   "interpreter": {
    "hash": "c261aea317cc0286b3b3261fbba9abdec21eaa57589985bb7a274bf54d6cc0a7"
   }
  }
 },
 "nbformat": 4,
 "nbformat_minor": 2
}
